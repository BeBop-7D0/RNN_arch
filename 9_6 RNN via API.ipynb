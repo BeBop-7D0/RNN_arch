{
 "cells": [
  {
   "cell_type": "code",
   "id": "initial_id",
   "metadata": {
    "collapsed": true,
    "ExecuteTime": {
     "end_time": "2024-10-21T12:47:57.229579Z",
     "start_time": "2024-10-21T12:47:53.123760Z"
    }
   },
   "source": [
    "import torch\n",
    "from torch import nn\n",
    "from torch.nn import functional as F\n",
    "from d2l import torch as d2l\n"
   ],
   "outputs": [],
   "execution_count": 1
  },
  {
   "metadata": {
    "ExecuteTime": {
     "end_time": "2024-10-21T12:52:44.840270Z",
     "start_time": "2024-10-21T12:52:44.829268Z"
    }
   },
   "cell_type": "code",
   "source": [
    "class RNN(d2l.Module): #@save\n",
    "    def __init__(self, num_inputs, num_hiddens):\n",
    "        super().__init__()\n",
    "        self.save_hyperparameters()\n",
    "        self.rnn = nn.RNN(input_size=num_inputs, hidden_size=num_hiddens)\n",
    "    \n",
    "    def forward(self, inputs, H=None):\n",
    "        return self.rnn(inputs, H)"
   ],
   "id": "55645e98d5e0738b",
   "outputs": [],
   "execution_count": 2
  },
  {
   "metadata": {
    "ExecuteTime": {
     "end_time": "2024-10-21T12:55:30.218815Z",
     "start_time": "2024-10-21T12:55:30.201809Z"
    }
   },
   "cell_type": "code",
   "source": [
    "class RNNLM(d2l.RNNLMScratch): #@save\n",
    "    def init_params(self):\n",
    "        self.linear = nn.LazyLinear(self.vocab_size)\n",
    "    \n",
    "    def output_layer(self, hiddens):\n",
    "        return self.linear(hiddens).swapaxes(0, 1)"
   ],
   "id": "3b3cffe49e128693",
   "outputs": [],
   "execution_count": 3
  },
  {
   "metadata": {
    "ExecuteTime": {
     "end_time": "2024-10-21T13:02:22.935176Z",
     "start_time": "2024-10-21T13:02:21.610178Z"
    }
   },
   "cell_type": "code",
   "source": [
    "data = d2l.TimeMachine(batch_size=1024, num_steps=32)\n",
    "rnn = RNN(num_inputs=len(data.vocab), num_hiddens=32)\n",
    "model = RNNLM(rnn, vocab_size=len(data.vocab), lr=1)\n",
    "model.predict('it has', 40, data.vocab)"
   ],
   "id": "5a816ac870113ee1",
   "outputs": [
    {
     "data": {
      "text/plain": [
       "'it has nuuuuuuuuuuuuuuuuuuuuuuuuuuuuuuuuuuuuuu'"
      ]
     },
     "execution_count": 6,
     "metadata": {},
     "output_type": "execute_result"
    }
   ],
   "execution_count": 6
  },
  {
   "metadata": {},
   "cell_type": "code",
   "source": [
    "trainer = d2l.Trainer(max_epochs=100, gradient_clip_val=1, num_gpus=1)\n",
    "trainer.fit(model, data)"
   ],
   "id": "a719b1ece9f0df18",
   "execution_count": 7,
   "outputs": []
  },
  {
   "metadata": {
    "ExecuteTime": {
     "end_time": "2024-10-21T13:07:18.463526Z",
     "start_time": "2024-10-21T13:07:18.380397Z"
    }
   },
   "cell_type": "code",
   "source": "model.predict('it has', 200, data.vocab)",
   "id": "39ae57a47041647b",
   "outputs": [
    {
     "data": {
      "text/plain": [
       "'it has move the peoment of the people and a dimention the pere is a cong thing and the time traveller and the time traveller and the time traveller and the time traveller and the time traveller and the time'"
      ]
     },
     "execution_count": 10,
     "metadata": {},
     "output_type": "execute_result"
    }
   ],
   "execution_count": 10
  },
  {
   "metadata": {},
   "cell_type": "code",
   "outputs": [],
   "execution_count": null,
   "source": "",
   "id": "a54993fd333661b3"
  }
 ],
 "metadata": {
  "kernelspec": {
   "display_name": "Python 3",
   "language": "python",
   "name": "python3"
  },
  "language_info": {
   "codemirror_mode": {
    "name": "ipython",
    "version": 2
   },
   "file_extension": ".py",
   "mimetype": "text/x-python",
   "name": "python",
   "nbconvert_exporter": "python",
   "pygments_lexer": "ipython2",
   "version": "2.7.6"
  }
 },
 "nbformat": 4,
 "nbformat_minor": 5
}
