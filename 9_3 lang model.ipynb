{
 "cells": [
  {
   "cell_type": "code",
   "id": "initial_id",
   "metadata": {
    "collapsed": true,
    "ExecuteTime": {
     "end_time": "2024-10-21T08:22:25.739125Z",
     "start_time": "2024-10-21T08:22:21.597251Z"
    }
   },
   "source": [
    "import torch\n",
    "from d2l import torch as d2l"
   ],
   "outputs": [],
   "execution_count": 1
  },
  {
   "metadata": {
    "ExecuteTime": {
     "end_time": "2024-10-21T08:55:33.043199Z",
     "start_time": "2024-10-21T08:55:33.024813Z"
    }
   },
   "cell_type": "code",
   "source": [
    "@d2l.add_to_class(d2l.TimeMachine) #@save\n",
    "def __init__(self, batch_size, num_steps, num_train=10_000, num_val=5_000):\n",
    "    super(d2l.TimeMachine, self).__init__()\n",
    "    self.save_hyperparameters()\n",
    "    corpus, self.vocab = self.build(self._download())\n",
    "    array = torch.tensor([corpus[i:i+num_steps+1]\n",
    "                          for i in range(len(corpus)-num_steps)])\n",
    "    self.X, self.Y = array[:, :-1], array[:, 1:]"
   ],
   "id": "c455b6ab4407edc7",
   "outputs": [],
   "execution_count": 8
  },
  {
   "metadata": {
    "ExecuteTime": {
     "end_time": "2024-10-21T08:55:33.809418Z",
     "start_time": "2024-10-21T08:55:33.798416Z"
    }
   },
   "cell_type": "code",
   "source": [
    "@d2l.add_to_class(d2l.TimeMachine) #@save\n",
    "def get_dataloader(self, train):\n",
    "    idx = slice(0, self.num_train) if train else (\n",
    "        slice(self.num_train, self.num_train + self.num_val))\n",
    "    return self.get_tensorloader([self.X, self.Y], train=train, indices=idx)"
   ],
   "id": "6326c32cf30a700",
   "outputs": [],
   "execution_count": 9
  },
  {
   "metadata": {
    "ExecuteTime": {
     "end_time": "2024-10-21T08:55:34.834936Z",
     "start_time": "2024-10-21T08:55:34.175888Z"
    }
   },
   "cell_type": "code",
   "source": [
    "data = d2l.TimeMachine(batch_size=2, num_steps=10)\n",
    "for X, Y in data.train_dataloader():\n",
    "    print('X:', X, '\\nY:', Y)\n",
    "    break"
   ],
   "id": "5af26158271b2922",
   "outputs": [
    {
     "name": "stdout",
     "output_type": "stream",
     "text": [
      "X: tensor([[ 0, 24,  6,  2, 19, 26,  0, 13,  6, 21],\n",
      "        [20,  6,  6,  0, 26, 16, 22, 19,  0,  6]]) \n",
      "Y: tensor([[24,  6,  2, 19, 26,  0, 13,  6, 21,  0],\n",
      "        [ 6,  6,  0, 26, 16, 22, 19,  0,  6, 25]])\n"
     ]
    }
   ],
   "execution_count": 10
  },
  {
   "metadata": {},
   "cell_type": "code",
   "outputs": [],
   "execution_count": null,
   "source": "",
   "id": "600728c34a166aae"
  }
 ],
 "metadata": {
  "kernelspec": {
   "display_name": "Python 3",
   "language": "python",
   "name": "python3"
  },
  "language_info": {
   "codemirror_mode": {
    "name": "ipython",
    "version": 2
   },
   "file_extension": ".py",
   "mimetype": "text/x-python",
   "name": "python",
   "nbconvert_exporter": "python",
   "pygments_lexer": "ipython2",
   "version": "2.7.6"
  }
 },
 "nbformat": 4,
 "nbformat_minor": 5
}
